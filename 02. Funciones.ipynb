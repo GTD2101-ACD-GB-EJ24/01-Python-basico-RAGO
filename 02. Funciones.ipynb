{
  "cells": [
    {
      "attachments": {},
      "cell_type": "markdown",
      "metadata": {},
      "source": [
        "# Funciones\n",
        "\n",
        "En este JNB se revisará el tema de Funciones"
      ]
    },
    {
      "cell_type": "code",
      "execution_count": 5,
      "metadata": {
        "id": "O8NoTzxjs2wK",
        "outputId": "fa4bc249-a4fa-48a6-9dc6-7733646ed223"
      },
      "outputs": [],
      "source": [
        "def get_pay(num_hours):\n",
        "    # Pre-tax pay, based on receiving $15/hour\n",
        "    pay_pretax = num_hours * 15\n",
        "    # After-tax pay, based on being in 12% tax bracket\n",
        "    pay_aftertax = pay_pretax * (1 - .12)\n",
        "    return pay_aftertax"
      ]
    },
    {
      "cell_type": "markdown",
      "metadata": {},
      "source": [
        "Calcular el sueldo de un empleado que trabaja 40 hrs"
      ]
    },
    {
      "cell_type": "code",
      "execution_count": 7,
      "metadata": {},
      "outputs": [
        {
          "name": "stdout",
          "output_type": "stream",
          "text": [
            "264.0\n"
          ]
        }
      ],
      "source": [
        "# Calculate pay based on working 40 hours\n",
        "pay_fulltime = get_pay(20)\n",
        "print(pay_fulltime)"
      ]
    }
  ],
  "metadata": {
    "colab": {
      "include_colab_link": true,
      "provenance": []
    },
    "kernelspec": {
      "display_name": "Python 3.10.7 64-bit",
      "language": "python",
      "name": "python3"
    },
    "language_info": {
      "codemirror_mode": {
        "name": "ipython",
        "version": 3
      },
      "file_extension": ".py",
      "mimetype": "text/x-python",
      "name": "python",
      "nbconvert_exporter": "python",
      "pygments_lexer": "ipython3",
      "version": "3.10.13"
    },
    "orig_nbformat": 4,
    "vscode": {
      "interpreter": {
        "hash": "eb4a0ac80907d7f44e1a5e88d3d3381b33e3dbedd3a24d113e876f30a0c46bee"
      }
    }
  },
  "nbformat": 4,
  "nbformat_minor": 0
}
